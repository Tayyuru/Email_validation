{
  "nbformat": 4,
  "nbformat_minor": 0,
  "metadata": {
    "colab": {
      "provenance": []
    },
    "kernelspec": {
      "name": "python3",
      "display_name": "Python 3"
    },
    "language_info": {
      "name": "python"
    }
  },
  "cells": [
    {
      "cell_type": "code",
      "execution_count": 1,
      "metadata": {
        "colab": {
          "base_uri": "https://localhost:8080/"
        },
        "id": "LeZIm9W_wEjK",
        "outputId": "dfbae380-9372-4ff5-fa4f-f4cf33a7f6af"
      },
      "outputs": [
        {
          "output_type": "stream",
          "name": "stdout",
          "text": [
            "Enter email address : tsupraja21@gmail.com\n",
            "Right email address\n"
          ]
        }
      ],
      "source": [
        "email = input(\"Enter email address : \")\n",
        "j = 0\n",
        "k = 0\n",
        "l=0\n",
        "if(len(email)>=6):\n",
        "    if(email[0].isalpha()):\n",
        "        if(('@' in email) & (email.count('@')==1)):\n",
        "            if((email[-4]== '.')^(email[-3] == '.')):\n",
        "                for i in email:\n",
        "                    if(i.isspace()):\n",
        "                        j = 1\n",
        "                    if(i.isalpha()):\n",
        "                        if(i==i.upper()):\n",
        "                            k = 1\n",
        "                    elif(i.isdigit()):\n",
        "                        continue\n",
        "                    elif((i=='_' )| (i== '@')|(i=='.')):\n",
        "                       continue\n",
        "                    else:\n",
        "                        l = 1\n",
        "                if((k==1) | (j==1) | (l==1)):\n",
        "                    print(\"Wrong email address\")\n",
        "                else:\n",
        "                    print(\"Right email address\")\n",
        "            else:\n",
        "                print(\"Wrong email address\")\n",
        "        else:\n",
        "            print(\"Wrong email address\")\n",
        "    else:\n",
        "        print(\"Wrong email address\")\n",
        "else:\n",
        "    print(\"Wrong email address\")"
      ]
    },
    {
      "cell_type": "code",
      "source": [],
      "metadata": {
        "id": "Pfq1b9IEwF9J"
      },
      "execution_count": null,
      "outputs": []
    }
  ]
}